{
 "cells": [
  {
   "cell_type": "markdown",
   "metadata": {},
   "source": [
    "## Imports"
   ]
  },
  {
   "cell_type": "code",
   "execution_count": 1,
   "metadata": {},
   "outputs": [],
   "source": [
    "from os import path, walk\n",
    "\n",
    "from typing import Any, Generator"
   ]
  },
  {
   "cell_type": "code",
   "execution_count": 2,
   "metadata": {},
   "outputs": [],
   "source": [
    "import sys\n",
    "sys.path.append(path.abspath(\"..\"))"
   ]
  },
  {
   "cell_type": "markdown",
   "metadata": {},
   "source": [
    "## Constants"
   ]
  },
  {
   "cell_type": "code",
   "execution_count": 3,
   "metadata": {},
   "outputs": [],
   "source": [
    "DIRECTORY_PATH = \"../data\"\n",
    "RAW_DIRECTORY_PATH = path.join(DIRECTORY_PATH, \"raw\")\n",
    "PARSED_DIRECTORY_PATH = path.join(DIRECTORY_PATH, \"parsed\")"
   ]
  },
  {
   "cell_type": "markdown",
   "metadata": {},
   "source": [
    "## Helper Functions"
   ]
  },
  {
   "cell_type": "code",
   "execution_count": 4,
   "metadata": {},
   "outputs": [],
   "source": [
    "def get_all_files_in_directory() -> Generator[str, Any, None]:\n",
    "    for root, dirs, files in walk(RAW_DIRECTORY_PATH):\n",
    "        for file in files:\n",
    "            if \".pdf\" in file:\n",
    "                yield path.join(root, file)"
   ]
  },
  {
   "cell_type": "markdown",
   "metadata": {},
   "source": [
    "## Main Code"
   ]
  },
  {
   "cell_type": "code",
   "execution_count": 5,
   "metadata": {},
   "outputs": [],
   "source": [
    "all_documents = []\n",
    "for file_path in get_all_files_in_directory():\n",
    "    all_documents.append(file_path)"
   ]
  },
  {
   "cell_type": "code",
   "execution_count": 6,
   "metadata": {},
   "outputs": [
    {
     "ename": "NameError",
     "evalue": "name 'ExcelParser' is not defined",
     "output_type": "error",
     "traceback": [
      "\u001b[31m---------------------------------------------------------------------------\u001b[39m",
      "\u001b[31mNameError\u001b[39m                                 Traceback (most recent call last)",
      "\u001b[36mCell\u001b[39m\u001b[36m \u001b[39m\u001b[32mIn[6]\u001b[39m\u001b[32m, line 4\u001b[39m\n\u001b[32m      1\u001b[39m \u001b[38;5;28;01mfrom\u001b[39;00m\u001b[38;5;250m \u001b[39m\u001b[34;01msrc\u001b[39;00m\u001b[34;01m.\u001b[39;00m\u001b[34;01mparsers\u001b[39;00m\u001b[38;5;250m \u001b[39m\u001b[38;5;28;01mimport\u001b[39;00m PositionalDocumentParsingPipeline\n\u001b[32m----> \u001b[39m\u001b[32m4\u001b[39m pipeline = \u001b[43mPositionalDocumentParsingPipeline\u001b[49m\u001b[43m(\u001b[49m\u001b[43m)\u001b[49m\n\u001b[32m      6\u001b[39m parsed_document = pipeline.parse_document(all_documents[\u001b[32m0\u001b[39m])\n",
      "\u001b[36mFile \u001b[39m\u001b[32m~/projects/EnterpriseAI/Knowledgebase-RAG-Analyzer/src/parsers/pipeline.py:27\u001b[39m, in \u001b[36mPositionalDocumentParsingPipeline.__init__\u001b[39m\u001b[34m(self)\u001b[39m\n\u001b[32m     20\u001b[39m \u001b[38;5;28;01mdef\u001b[39;00m\u001b[38;5;250m \u001b[39m\u001b[34m__init__\u001b[39m(\u001b[38;5;28mself\u001b[39m):\n\u001b[32m     21\u001b[39m     \u001b[38;5;28mself\u001b[39m.parsers = [\n\u001b[32m     22\u001b[39m         PositionalPDFParser(),\n\u001b[32m     23\u001b[39m         PositionalWordParser(),\n\u001b[32m     24\u001b[39m         PositionalHTMLParser(),\n\u001b[32m     25\u001b[39m         PositionalImageParser(),\n\u001b[32m     26\u001b[39m         \u001b[38;5;66;03m# Keep original parsers for unsupported formats\u001b[39;00m\n\u001b[32m---> \u001b[39m\u001b[32m27\u001b[39m         \u001b[43mExcelParser\u001b[49m(),\n\u001b[32m     28\u001b[39m         TextParser(),\n\u001b[32m     29\u001b[39m         JSONParser(),\n\u001b[32m     30\u001b[39m         XMLParser(),\n\u001b[32m     31\u001b[39m         CSVParser()\n\u001b[32m     32\u001b[39m     ]\n\u001b[32m     34\u001b[39m     logging.basicConfig(level=logging.INFO)\n\u001b[32m     35\u001b[39m     \u001b[38;5;28mself\u001b[39m.logger = logging.getLogger(\u001b[34m__name__\u001b[39m)\n",
      "\u001b[31mNameError\u001b[39m: name 'ExcelParser' is not defined"
     ]
    }
   ],
   "source": [
    "from src.parsers import PositionalDocumentParsingPipeline\n",
    "\n",
    "\n",
    "pipeline = PositionalDocumentParsingPipeline()\n",
    "\n",
    "parsed_document = pipeline.parse_document(all_documents[0])"
   ]
  },
  {
   "cell_type": "code",
   "execution_count": null,
   "metadata": {},
   "outputs": [],
   "source": [
    "parsed_document"
   ]
  },
  {
   "cell_type": "code",
   "execution_count": null,
   "metadata": {},
   "outputs": [],
   "source": []
  }
 ],
 "metadata": {
  "kernelspec": {
   "display_name": ".venv",
   "language": "python",
   "name": "python3"
  },
  "language_info": {
   "codemirror_mode": {
    "name": "ipython",
    "version": 3
   },
   "file_extension": ".py",
   "mimetype": "text/x-python",
   "name": "python",
   "nbconvert_exporter": "python",
   "pygments_lexer": "ipython3",
   "version": "3.12.8"
  }
 },
 "nbformat": 4,
 "nbformat_minor": 2
}
